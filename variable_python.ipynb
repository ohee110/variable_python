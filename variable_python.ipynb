{
  "nbformat": 4,
  "nbformat_minor": 0,
  "metadata": {
    "colab": {
      "provenance": [],
      "authorship_tag": "ABX9TyPhYGKIXrPRVw/rfQ4rCuSA",
      "include_colab_link": true
    },
    "kernelspec": {
      "name": "python3",
      "display_name": "Python 3"
    },
    "language_info": {
      "name": "python"
    }
  },
  "cells": [
    {
      "cell_type": "markdown",
      "metadata": {
        "id": "view-in-github",
        "colab_type": "text"
      },
      "source": [
        "<a href=\"https://colab.research.google.com/github/ohee110/variable_python/blob/main/variable_python.ipynb\" target=\"_parent\"><img src=\"https://colab.research.google.com/assets/colab-badge.svg\" alt=\"Open In Colab\"/></a>"
      ]
    },
    {
      "cell_type": "code",
      "source": [
        "patient_name='John Smith'\n",
        "age=21\n",
        "is_new=True\n",
        "print(\"we have a patient named \"+patient_name)\n",
        "print(\"he is \"+str(age)+\" years old\")\n",
        "if is_new:\n",
        "    print(\"he is a new patient\")\n",
        "else:\n",
        "    print(\"he is not a new patient\")"
      ],
      "metadata": {
        "colab": {
          "base_uri": "https://localhost:8080/"
        },
        "id": "wBEn0uNBj8fj",
        "outputId": "6da1ccd8-6076-4339-90d0-4995e6e986b3"
      },
      "execution_count": null,
      "outputs": [
        {
          "output_type": "stream",
          "name": "stdout",
          "text": [
            "we have a patient named John Smith\n",
            "he is 20 years old\n",
            "he is a new patient\n"
          ]
        }
      ]
    }
  ]
}